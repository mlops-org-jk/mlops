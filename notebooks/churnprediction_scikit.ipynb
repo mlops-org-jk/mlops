{
 "cells": [
  {
   "cell_type": "markdown",
   "metadata": {
    "id": "6fea454a55f84fb884c593b89cd9b814"
   },
   "source": [
    "# Introduction - Customer Churn Prediction notebook\n",
    "In this notebook, we illustrate how you can train a model for Churn Prediction using scikit learn. After training the model, you step through the instructions to deploy the model using Watson Machine Learning.\n",
    "\n",
    "This notebook is a variation of the original notebook reference in this github repo: https://github.com/elenalowery/cpd4_demo/blob/master/assets/jupyterlab/Predict_Customer_Churn_CPD4.ipynb\n"
   ]
  },
  {
   "cell_type": "code",
   "execution_count": 2,
   "metadata": {
    "id": "602a9554-34f4-4c2f-99a4-4f89e0806ef6",
    "tags": []
   },
   "outputs": [
    {
     "name": "stdout",
     "output_type": "stream",
     "text": [
      "Validating notebook using validation data\n"
     ]
    }
   ],
   "source": [
    "print(\"Validating notebook using validation data\")"
   ]
  },
  {
   "cell_type": "code",
   "execution_count": 3,
   "metadata": {
    "id": "89d4ad1d242e4526803c8ad7379fbff6",
    "tags": []
   },
   "outputs": [
    {
     "name": "stdout",
     "output_type": "stream",
     "text": [
      "Collecting sklearn-pandas\n",
      "  Downloading sklearn_pandas-2.2.0-py2.py3-none-any.whl (10 kB)\n",
      "Collecting scipy>=1.5.1\n",
      "  Downloading scipy-1.7.3-cp38-cp38-manylinux_2_17_x86_64.manylinux2014_x86_64.whl (39.3 MB)\n",
      "\u001b[K     |████████████████████████████████| 39.3 MB 22.4 MB/s eta 0:00:01\n",
      "\u001b[?25hRequirement already satisfied: pandas>=1.1.4 in /opt/conda/envs/Python-3.8-main/lib/python3.8/site-packages (from sklearn-pandas) (1.2.4)\n",
      "Requirement already satisfied: scikit-learn>=0.23.0 in /opt/conda/envs/Python-3.8-main/lib/python3.8/site-packages (from sklearn-pandas) (0.23.2)\n",
      "Requirement already satisfied: numpy>=1.18.1 in /opt/conda/envs/Python-3.8-main/lib/python3.8/site-packages (from sklearn-pandas) (1.19.2)\n",
      "Requirement already satisfied: python-dateutil>=2.7.3 in /opt/conda/envs/Python-3.8-main/lib/python3.8/site-packages (from pandas>=1.1.4->sklearn-pandas) (2.8.1)\n",
      "Requirement already satisfied: pytz>=2017.3 in /opt/conda/envs/Python-3.8-main/lib/python3.8/site-packages (from pandas>=1.1.4->sklearn-pandas) (2021.1)\n",
      "Requirement already satisfied: six>=1.5 in /opt/conda/envs/Python-3.8-main/lib/python3.8/site-packages (from python-dateutil>=2.7.3->pandas>=1.1.4->sklearn-pandas) (1.15.0)\n",
      "Requirement already satisfied: threadpoolctl>=2.0.0 in /opt/conda/envs/Python-3.8-main/lib/python3.8/site-packages (from scikit-learn>=0.23.0->sklearn-pandas) (2.1.0)\n",
      "Requirement already satisfied: joblib>=0.11 in /opt/conda/envs/Python-3.8-main/lib/python3.8/site-packages (from scikit-learn>=0.23.0->sklearn-pandas) (0.17.0)\n",
      "Installing collected packages: scipy, sklearn-pandas\n",
      "  Attempting uninstall: scipy\n",
      "    Found existing installation: scipy 1.4.1\n",
      "    Uninstalling scipy-1.4.1:\n",
      "      Successfully uninstalled scipy-1.4.1\n",
      "Successfully installed scipy-1.7.3 sklearn-pandas-2.2.0\n"
     ]
    }
   ],
   "source": [
    "# Install required Python modules\n",
    "!pip install sklearn-pandas\n"
   ]
  },
  {
   "cell_type": "markdown",
   "metadata": {
    "id": "15e468f773c241afa16cf7bc12fb4e85"
   },
   "source": [
    "## Step 1: Review Use Case\n",
    "The analytics use case implemented in this notebook is telco churn prediction. It is a simple use case which illustrates typical process for model development and deployment using Cloud Pak for Data."
   ]
  },
  {
   "cell_type": "code",
   "execution_count": 4,
   "metadata": {
    "id": "aa8d83ed-c928-4233-874e-885f0b149eaa",
    "tags": []
   },
   "outputs": [
    {
     "data": {
      "text/html": [
       "A row limit of 5000 has been applied to the query to enable sample previewing. If the data set is larger, only the first 5000 rows will be loaded."
      ],
      "text/plain": [
       "<IPython.core.display.HTML object>"
      ]
     },
     "metadata": {},
     "output_type": "display_data"
    },
    {
     "data": {
      "text/html": [
       "<div>\n",
       "<style scoped>\n",
       "    .dataframe tbody tr th:only-of-type {\n",
       "        vertical-align: middle;\n",
       "    }\n",
       "\n",
       "    .dataframe tbody tr th {\n",
       "        vertical-align: top;\n",
       "    }\n",
       "\n",
       "    .dataframe thead th {\n",
       "        text-align: right;\n",
       "    }\n",
       "</style>\n",
       "<table border=\"1\" class=\"dataframe\">\n",
       "  <thead>\n",
       "    <tr style=\"text-align: right;\">\n",
       "      <th></th>\n",
       "      <th>COLUMN_0</th>\n",
       "      <th>ID</th>\n",
       "      <th>LONGDISTANCE</th>\n",
       "      <th>INTERNATIONAL</th>\n",
       "      <th>LOCAL</th>\n",
       "      <th>DROPPED</th>\n",
       "      <th>PAYMETHOD</th>\n",
       "      <th>LOCALBILLTYPE</th>\n",
       "      <th>LONGDISTANCEBILLTYPE</th>\n",
       "      <th>USAGE</th>\n",
       "      <th>RATEPLAN</th>\n",
       "      <th>GENDER</th>\n",
       "      <th>STATUS</th>\n",
       "      <th>CHILDREN</th>\n",
       "      <th>ESTINCOME</th>\n",
       "      <th>CAROWNER</th>\n",
       "      <th>AGE</th>\n",
       "      <th>CHURN</th>\n",
       "    </tr>\n",
       "  </thead>\n",
       "  <tbody>\n",
       "    <tr>\n",
       "      <th>0</th>\n",
       "      <td>812</td>\n",
       "      <td>2944</td>\n",
       "      <td>8</td>\n",
       "      <td>0</td>\n",
       "      <td>22</td>\n",
       "      <td>0</td>\n",
       "      <td>CC</td>\n",
       "      <td>FreeLocal</td>\n",
       "      <td>Standard</td>\n",
       "      <td>31</td>\n",
       "      <td>1</td>\n",
       "      <td>F</td>\n",
       "      <td>M</td>\n",
       "      <td>2</td>\n",
       "      <td>80087.7</td>\n",
       "      <td>N</td>\n",
       "      <td>41.920000</td>\n",
       "      <td>F</td>\n",
       "    </tr>\n",
       "    <tr>\n",
       "      <th>1</th>\n",
       "      <td>916</td>\n",
       "      <td>3194</td>\n",
       "      <td>1</td>\n",
       "      <td>0</td>\n",
       "      <td>29</td>\n",
       "      <td>0</td>\n",
       "      <td>CC</td>\n",
       "      <td>Budget</td>\n",
       "      <td>Standard</td>\n",
       "      <td>31</td>\n",
       "      <td>4</td>\n",
       "      <td>F</td>\n",
       "      <td>S</td>\n",
       "      <td>2</td>\n",
       "      <td>93559.1</td>\n",
       "      <td>N</td>\n",
       "      <td>57.620000</td>\n",
       "      <td>F</td>\n",
       "    </tr>\n",
       "    <tr>\n",
       "      <th>2</th>\n",
       "      <td>339</td>\n",
       "      <td>1824</td>\n",
       "      <td>2</td>\n",
       "      <td>1</td>\n",
       "      <td>43</td>\n",
       "      <td>0</td>\n",
       "      <td>CH</td>\n",
       "      <td>Budget</td>\n",
       "      <td>Intnl_discount</td>\n",
       "      <td>46</td>\n",
       "      <td>2</td>\n",
       "      <td>M</td>\n",
       "      <td>M</td>\n",
       "      <td>0</td>\n",
       "      <td>78894.2</td>\n",
       "      <td>N</td>\n",
       "      <td>34.000000</td>\n",
       "      <td>F</td>\n",
       "    </tr>\n",
       "    <tr>\n",
       "      <th>3</th>\n",
       "      <td>192</td>\n",
       "      <td>1451</td>\n",
       "      <td>1</td>\n",
       "      <td>0</td>\n",
       "      <td>83</td>\n",
       "      <td>0</td>\n",
       "      <td>CC</td>\n",
       "      <td>FreeLocal</td>\n",
       "      <td>Intnl_discount</td>\n",
       "      <td>84</td>\n",
       "      <td>1</td>\n",
       "      <td>F</td>\n",
       "      <td>M</td>\n",
       "      <td>2</td>\n",
       "      <td>98003.7</td>\n",
       "      <td>Y</td>\n",
       "      <td>26.273333</td>\n",
       "      <td>F</td>\n",
       "    </tr>\n",
       "    <tr>\n",
       "      <th>4</th>\n",
       "      <td>203</td>\n",
       "      <td>1469</td>\n",
       "      <td>59</td>\n",
       "      <td>2</td>\n",
       "      <td>38</td>\n",
       "      <td>0</td>\n",
       "      <td>CC</td>\n",
       "      <td>FreeLocal</td>\n",
       "      <td>Standard</td>\n",
       "      <td>62</td>\n",
       "      <td>4</td>\n",
       "      <td>F</td>\n",
       "      <td>S</td>\n",
       "      <td>2</td>\n",
       "      <td>42000.0</td>\n",
       "      <td>N</td>\n",
       "      <td>18.000000</td>\n",
       "      <td>T</td>\n",
       "    </tr>\n",
       "  </tbody>\n",
       "</table>\n",
       "</div>"
      ],
      "text/plain": [
       "   COLUMN_0    ID  LONGDISTANCE  INTERNATIONAL  LOCAL  DROPPED PAYMETHOD  \\\n",
       "0       812  2944             8              0     22        0        CC   \n",
       "1       916  3194             1              0     29        0        CC   \n",
       "2       339  1824             2              1     43        0        CH   \n",
       "3       192  1451             1              0     83        0        CC   \n",
       "4       203  1469            59              2     38        0        CC   \n",
       "\n",
       "  LOCALBILLTYPE LONGDISTANCEBILLTYPE  USAGE  RATEPLAN GENDER STATUS  CHILDREN  \\\n",
       "0     FreeLocal             Standard     31         1      F      M         2   \n",
       "1        Budget             Standard     31         4      F      S         2   \n",
       "2        Budget       Intnl_discount     46         2      M      M         0   \n",
       "3     FreeLocal       Intnl_discount     84         1      F      M         2   \n",
       "4     FreeLocal             Standard     62         4      F      S         2   \n",
       "\n",
       "   ESTINCOME CAROWNER        AGE CHURN  \n",
       "0    80087.7        N  41.920000     F  \n",
       "1    93559.1        N  57.620000     F  \n",
       "2    78894.2        N  34.000000     F  \n",
       "3    98003.7        Y  26.273333     F  \n",
       "4    42000.0        N  18.000000     T  "
      ]
     },
     "execution_count": 4,
     "metadata": {},
     "output_type": "execute_result"
    }
   ],
   "source": [
    "# @hidden_cell\n",
    "\n",
    "from ibm_watson_studio_lib import access_project_or_space\n",
    "wslib = access_project_or_space()\n",
    "\n",
    "db2cloud_metadata = wslib.get_connection(\"db2cloud\")\n",
    "\n",
    "import os, ibm_db, ibm_db_dbi as dbi, pandas as pd\n",
    "\n",
    "db2cloud_dsn = 'DATABASE={};HOSTNAME={};PORT={};PROTOCOL=TCPIP;UID={uid};PWD={pwd};SECURITY=SSL'.format(\n",
    "    db2cloud_metadata['database'],\n",
    "    db2cloud_metadata['host'],\n",
    "    db2cloud_metadata.get('port', 50000),\n",
    "    uid=db2cloud_metadata['username'],\n",
    "    pwd=db2cloud_metadata['password']\n",
    ")\n",
    "\n",
    "db2cloud_connection = dbi.connect(db2cloud_dsn)\n",
    "   \n",
    "# NOTE:\n",
    "#  A row limit has been applied to the query to enable sample previewing.\n",
    "#  Adjust the display message and query as needed by editing the following lines:\n",
    "from IPython.core.display import display, HTML\n",
    "display(HTML(\"A row limit of 5000 has been applied to the query to enable sample previewing. If the data set is larger, only the first 5000 rows will be loaded.\"))\n",
    "query = 'SELECT * FROM \"XCV64422\".\"VALIDATION_DATA\" FETCH FIRST 5000 ROWS ONLY'\n",
    "\n",
    "data_df_7 = pd.read_sql_query(query, con=db2cloud_connection)\n",
    "data_df_7.head()\n",
    "\n",
    "# After use, close the database connection with the following code:\n",
    "# db2cloud_connection.close()\n"
   ]
  },
  {
   "cell_type": "code",
   "execution_count": 5,
   "metadata": {
    "id": "6838eb7d1a0543e698a069648b8296c4",
    "tags": []
   },
   "outputs": [],
   "source": [
    "# COPY the dataFrame into a new dataFrame called *data*\n",
    "# Note that when you insert the data, it may get written to a different dataFrame name; in this example, it is assumed the dataFrame is data_df_1\n",
    "data=data_df_7.copy()"
   ]
  },
  {
   "cell_type": "code",
   "execution_count": 6,
   "metadata": {
    "id": "082f5174c293460f8db2ccfe222fc384",
    "tags": []
   },
   "outputs": [
    {
     "name": "stdout",
     "output_type": "stream",
     "text": [
      "Index(['COLUMN_0', 'ID', 'LONGDISTANCE', 'INTERNATIONAL', 'LOCAL', 'DROPPED',\n",
      "       'PAYMETHOD', 'LOCALBILLTYPE', 'LONGDISTANCEBILLTYPE', 'USAGE',\n",
      "       'RATEPLAN', 'GENDER', 'STATUS', 'CHILDREN', 'ESTINCOME', 'CAROWNER',\n",
      "       'AGE', 'CHURN'],\n",
      "      dtype='object')\n"
     ]
    }
   ],
   "source": [
    "# List all the columns\n",
    "print(data.columns)"
   ]
  },
  {
   "cell_type": "code",
   "execution_count": 7,
   "metadata": {
    "id": "c872708dd0234402b620729acf287fc6",
    "tags": []
   },
   "outputs": [
    {
     "data": {
      "text/html": [
       "<div>\n",
       "<style scoped>\n",
       "    .dataframe tbody tr th:only-of-type {\n",
       "        vertical-align: middle;\n",
       "    }\n",
       "\n",
       "    .dataframe tbody tr th {\n",
       "        vertical-align: top;\n",
       "    }\n",
       "\n",
       "    .dataframe thead th {\n",
       "        text-align: right;\n",
       "    }\n",
       "</style>\n",
       "<table border=\"1\" class=\"dataframe\">\n",
       "  <thead>\n",
       "    <tr style=\"text-align: right;\">\n",
       "      <th></th>\n",
       "      <th>ID</th>\n",
       "      <th>LONGDISTANCE</th>\n",
       "      <th>INTERNATIONAL</th>\n",
       "      <th>LOCAL</th>\n",
       "      <th>DROPPED</th>\n",
       "      <th>PAYMETHOD</th>\n",
       "      <th>LOCALBILLTYPE</th>\n",
       "      <th>LONGDISTANCEBILLTYPE</th>\n",
       "      <th>USAGE</th>\n",
       "      <th>RATEPLAN</th>\n",
       "      <th>GENDER</th>\n",
       "      <th>STATUS</th>\n",
       "      <th>CHILDREN</th>\n",
       "      <th>ESTINCOME</th>\n",
       "      <th>CAROWNER</th>\n",
       "      <th>AGE</th>\n",
       "      <th>CHURN</th>\n",
       "    </tr>\n",
       "  </thead>\n",
       "  <tbody>\n",
       "    <tr>\n",
       "      <th>0</th>\n",
       "      <td>2944</td>\n",
       "      <td>8</td>\n",
       "      <td>0</td>\n",
       "      <td>22</td>\n",
       "      <td>0</td>\n",
       "      <td>CC</td>\n",
       "      <td>FreeLocal</td>\n",
       "      <td>Standard</td>\n",
       "      <td>31</td>\n",
       "      <td>1</td>\n",
       "      <td>F</td>\n",
       "      <td>M</td>\n",
       "      <td>2</td>\n",
       "      <td>80087.7</td>\n",
       "      <td>N</td>\n",
       "      <td>41.920000</td>\n",
       "      <td>F</td>\n",
       "    </tr>\n",
       "    <tr>\n",
       "      <th>1</th>\n",
       "      <td>3194</td>\n",
       "      <td>1</td>\n",
       "      <td>0</td>\n",
       "      <td>29</td>\n",
       "      <td>0</td>\n",
       "      <td>CC</td>\n",
       "      <td>Budget</td>\n",
       "      <td>Standard</td>\n",
       "      <td>31</td>\n",
       "      <td>4</td>\n",
       "      <td>F</td>\n",
       "      <td>S</td>\n",
       "      <td>2</td>\n",
       "      <td>93559.1</td>\n",
       "      <td>N</td>\n",
       "      <td>57.620000</td>\n",
       "      <td>F</td>\n",
       "    </tr>\n",
       "    <tr>\n",
       "      <th>2</th>\n",
       "      <td>1824</td>\n",
       "      <td>2</td>\n",
       "      <td>1</td>\n",
       "      <td>43</td>\n",
       "      <td>0</td>\n",
       "      <td>CH</td>\n",
       "      <td>Budget</td>\n",
       "      <td>Intnl_discount</td>\n",
       "      <td>46</td>\n",
       "      <td>2</td>\n",
       "      <td>M</td>\n",
       "      <td>M</td>\n",
       "      <td>0</td>\n",
       "      <td>78894.2</td>\n",
       "      <td>N</td>\n",
       "      <td>34.000000</td>\n",
       "      <td>F</td>\n",
       "    </tr>\n",
       "    <tr>\n",
       "      <th>3</th>\n",
       "      <td>1451</td>\n",
       "      <td>1</td>\n",
       "      <td>0</td>\n",
       "      <td>83</td>\n",
       "      <td>0</td>\n",
       "      <td>CC</td>\n",
       "      <td>FreeLocal</td>\n",
       "      <td>Intnl_discount</td>\n",
       "      <td>84</td>\n",
       "      <td>1</td>\n",
       "      <td>F</td>\n",
       "      <td>M</td>\n",
       "      <td>2</td>\n",
       "      <td>98003.7</td>\n",
       "      <td>Y</td>\n",
       "      <td>26.273333</td>\n",
       "      <td>F</td>\n",
       "    </tr>\n",
       "    <tr>\n",
       "      <th>4</th>\n",
       "      <td>1469</td>\n",
       "      <td>59</td>\n",
       "      <td>2</td>\n",
       "      <td>38</td>\n",
       "      <td>0</td>\n",
       "      <td>CC</td>\n",
       "      <td>FreeLocal</td>\n",
       "      <td>Standard</td>\n",
       "      <td>62</td>\n",
       "      <td>4</td>\n",
       "      <td>F</td>\n",
       "      <td>S</td>\n",
       "      <td>2</td>\n",
       "      <td>42000.0</td>\n",
       "      <td>N</td>\n",
       "      <td>18.000000</td>\n",
       "      <td>T</td>\n",
       "    </tr>\n",
       "  </tbody>\n",
       "</table>\n",
       "</div>"
      ],
      "text/plain": [
       "     ID  LONGDISTANCE  INTERNATIONAL  LOCAL  DROPPED PAYMETHOD LOCALBILLTYPE  \\\n",
       "0  2944             8              0     22        0        CC     FreeLocal   \n",
       "1  3194             1              0     29        0        CC        Budget   \n",
       "2  1824             2              1     43        0        CH        Budget   \n",
       "3  1451             1              0     83        0        CC     FreeLocal   \n",
       "4  1469            59              2     38        0        CC     FreeLocal   \n",
       "\n",
       "  LONGDISTANCEBILLTYPE  USAGE  RATEPLAN GENDER STATUS  CHILDREN  ESTINCOME  \\\n",
       "0             Standard     31         1      F      M         2    80087.7   \n",
       "1             Standard     31         4      F      S         2    93559.1   \n",
       "2       Intnl_discount     46         2      M      M         0    78894.2   \n",
       "3       Intnl_discount     84         1      F      M         2    98003.7   \n",
       "4             Standard     62         4      F      S         2    42000.0   \n",
       "\n",
       "  CAROWNER        AGE CHURN  \n",
       "0        N  41.920000     F  \n",
       "1        N  57.620000     F  \n",
       "2        N  34.000000     F  \n",
       "3        Y  26.273333     F  \n",
       "4        N  18.000000     T  "
      ]
     },
     "execution_count": 7,
     "metadata": {},
     "output_type": "execute_result"
    }
   ],
   "source": [
    "# Keep only the columns that are relevant for churn prediction\n",
    "data = data[['ID', 'LONGDISTANCE', 'INTERNATIONAL', 'LOCAL', 'DROPPED', 'PAYMETHOD', 'LOCALBILLTYPE', 'LONGDISTANCEBILLTYPE', 'USAGE', 'RATEPLAN', 'GENDER','STATUS', 'CHILDREN', 'ESTINCOME', 'CAROWNER', 'AGE', 'CHURN']]\n",
    "data.head()\n"
   ]
  },
  {
   "cell_type": "markdown",
   "metadata": {
    "id": "dc69b3d4-60c5-43ea-8931-03ad7d52ba27"
   },
   "source": [
    "## Step 2: Build the Random Forest model"
   ]
  },
  {
   "cell_type": "code",
   "execution_count": 8,
   "metadata": {
    "id": "6b665dc0-2b67-420c-877f-6035fe8ae710",
    "tags": []
   },
   "outputs": [],
   "source": [
    "import pandas as pd\n",
    "import sklearn\n",
    "pd.options.display.max_columns = 999\n",
    "\n",
    "import warnings\n",
    "warnings.filterwarnings('ignore')\n",
    "\n",
    "from scipy.stats import chi2_contingency,ttest_ind\n",
    "import matplotlib.pyplot as plt\n",
    "import seaborn as sns\n",
    "%matplotlib inline\n",
    "\n",
    "from sklearn.model_selection import train_test_split\n",
    "\n",
    "from sklearn.preprocessing import MinMaxScaler, LabelEncoder\n",
    "from sklearn.ensemble import RandomForestClassifier\n",
    "from sklearn.metrics import f1_score, accuracy_score, roc_curve, roc_auc_score\n",
    "\n",
    "import numpy as np\n",
    "\n",
    "import urllib3, requests, json"
   ]
  },
  {
   "cell_type": "code",
   "execution_count": 9,
   "metadata": {
    "id": "f050819d-c047-4c53-9e68-efc2aa1f4d42",
    "tags": []
   },
   "outputs": [
    {
     "data": {
      "text/html": [
       "<div>\n",
       "<style scoped>\n",
       "    .dataframe tbody tr th:only-of-type {\n",
       "        vertical-align: middle;\n",
       "    }\n",
       "\n",
       "    .dataframe tbody tr th {\n",
       "        vertical-align: top;\n",
       "    }\n",
       "\n",
       "    .dataframe thead th {\n",
       "        text-align: right;\n",
       "    }\n",
       "</style>\n",
       "<table border=\"1\" class=\"dataframe\">\n",
       "  <thead>\n",
       "    <tr style=\"text-align: right;\">\n",
       "      <th></th>\n",
       "      <th>ID</th>\n",
       "      <th>LONGDISTANCE</th>\n",
       "      <th>INTERNATIONAL</th>\n",
       "      <th>LOCAL</th>\n",
       "      <th>DROPPED</th>\n",
       "      <th>PAYMETHOD</th>\n",
       "      <th>LOCALBILLTYPE</th>\n",
       "      <th>LONGDISTANCEBILLTYPE</th>\n",
       "      <th>USAGE</th>\n",
       "      <th>RATEPLAN</th>\n",
       "      <th>GENDER</th>\n",
       "      <th>STATUS</th>\n",
       "      <th>CHILDREN</th>\n",
       "      <th>ESTINCOME</th>\n",
       "      <th>CAROWNER</th>\n",
       "      <th>AGE</th>\n",
       "      <th>CHURN</th>\n",
       "    </tr>\n",
       "  </thead>\n",
       "  <tbody>\n",
       "    <tr>\n",
       "      <th>0</th>\n",
       "      <td>2944</td>\n",
       "      <td>8</td>\n",
       "      <td>0</td>\n",
       "      <td>22</td>\n",
       "      <td>0</td>\n",
       "      <td>CC</td>\n",
       "      <td>FreeLocal</td>\n",
       "      <td>Standard</td>\n",
       "      <td>31</td>\n",
       "      <td>1</td>\n",
       "      <td>F</td>\n",
       "      <td>M</td>\n",
       "      <td>2</td>\n",
       "      <td>80087.7</td>\n",
       "      <td>N</td>\n",
       "      <td>41.920000</td>\n",
       "      <td>0</td>\n",
       "    </tr>\n",
       "    <tr>\n",
       "      <th>1</th>\n",
       "      <td>3194</td>\n",
       "      <td>1</td>\n",
       "      <td>0</td>\n",
       "      <td>29</td>\n",
       "      <td>0</td>\n",
       "      <td>CC</td>\n",
       "      <td>Budget</td>\n",
       "      <td>Standard</td>\n",
       "      <td>31</td>\n",
       "      <td>4</td>\n",
       "      <td>F</td>\n",
       "      <td>S</td>\n",
       "      <td>2</td>\n",
       "      <td>93559.1</td>\n",
       "      <td>N</td>\n",
       "      <td>57.620000</td>\n",
       "      <td>0</td>\n",
       "    </tr>\n",
       "    <tr>\n",
       "      <th>2</th>\n",
       "      <td>1824</td>\n",
       "      <td>2</td>\n",
       "      <td>1</td>\n",
       "      <td>43</td>\n",
       "      <td>0</td>\n",
       "      <td>CH</td>\n",
       "      <td>Budget</td>\n",
       "      <td>Intnl_discount</td>\n",
       "      <td>46</td>\n",
       "      <td>2</td>\n",
       "      <td>M</td>\n",
       "      <td>M</td>\n",
       "      <td>0</td>\n",
       "      <td>78894.2</td>\n",
       "      <td>N</td>\n",
       "      <td>34.000000</td>\n",
       "      <td>0</td>\n",
       "    </tr>\n",
       "    <tr>\n",
       "      <th>3</th>\n",
       "      <td>1451</td>\n",
       "      <td>1</td>\n",
       "      <td>0</td>\n",
       "      <td>83</td>\n",
       "      <td>0</td>\n",
       "      <td>CC</td>\n",
       "      <td>FreeLocal</td>\n",
       "      <td>Intnl_discount</td>\n",
       "      <td>84</td>\n",
       "      <td>1</td>\n",
       "      <td>F</td>\n",
       "      <td>M</td>\n",
       "      <td>2</td>\n",
       "      <td>98003.7</td>\n",
       "      <td>Y</td>\n",
       "      <td>26.273333</td>\n",
       "      <td>0</td>\n",
       "    </tr>\n",
       "    <tr>\n",
       "      <th>4</th>\n",
       "      <td>1469</td>\n",
       "      <td>59</td>\n",
       "      <td>2</td>\n",
       "      <td>38</td>\n",
       "      <td>0</td>\n",
       "      <td>CC</td>\n",
       "      <td>FreeLocal</td>\n",
       "      <td>Standard</td>\n",
       "      <td>62</td>\n",
       "      <td>4</td>\n",
       "      <td>F</td>\n",
       "      <td>S</td>\n",
       "      <td>2</td>\n",
       "      <td>42000.0</td>\n",
       "      <td>N</td>\n",
       "      <td>18.000000</td>\n",
       "      <td>1</td>\n",
       "    </tr>\n",
       "  </tbody>\n",
       "</table>\n",
       "</div>"
      ],
      "text/plain": [
       "     ID  LONGDISTANCE  INTERNATIONAL  LOCAL  DROPPED PAYMETHOD LOCALBILLTYPE  \\\n",
       "0  2944             8              0     22        0        CC     FreeLocal   \n",
       "1  3194             1              0     29        0        CC        Budget   \n",
       "2  1824             2              1     43        0        CH        Budget   \n",
       "3  1451             1              0     83        0        CC     FreeLocal   \n",
       "4  1469            59              2     38        0        CC     FreeLocal   \n",
       "\n",
       "  LONGDISTANCEBILLTYPE  USAGE  RATEPLAN GENDER STATUS  CHILDREN  ESTINCOME  \\\n",
       "0             Standard     31         1      F      M         2    80087.7   \n",
       "1             Standard     31         4      F      S         2    93559.1   \n",
       "2       Intnl_discount     46         2      M      M         0    78894.2   \n",
       "3       Intnl_discount     84         1      F      M         2    98003.7   \n",
       "4             Standard     62         4      F      S         2    42000.0   \n",
       "\n",
       "  CAROWNER        AGE  CHURN  \n",
       "0        N  41.920000      0  \n",
       "1        N  57.620000      0  \n",
       "2        N  34.000000      0  \n",
       "3        Y  26.273333      0  \n",
       "4        N  18.000000      1  "
      ]
     },
     "execution_count": 9,
     "metadata": {},
     "output_type": "execute_result"
    }
   ],
   "source": [
    "#convert CHURN to 1/0\n",
    "le = LabelEncoder()\n",
    "data.loc[:,'CHURN']= le.fit_transform(data.loc[:,'CHURN'])\n",
    "data.head()"
   ]
  },
  {
   "cell_type": "code",
   "execution_count": 10,
   "metadata": {
    "id": "fcb7815d-ffa3-436d-92d9-956431ac1069",
    "tags": []
   },
   "outputs": [],
   "source": [
    "# define the label and features\n",
    "y = np.float32(data.CHURN)\n",
    "x = data.drop(['CHURN'], axis = 1)"
   ]
  },
  {
   "cell_type": "code",
   "execution_count": 11,
   "metadata": {
    "id": "35c1ced6e96e4b1786088ccccb09ac96",
    "tags": []
   },
   "outputs": [
    {
     "data": {
      "text/plain": [
       "Index(['ID', 'LONGDISTANCE', 'INTERNATIONAL', 'LOCAL', 'DROPPED', 'PAYMETHOD',\n",
       "       'LOCALBILLTYPE', 'LONGDISTANCEBILLTYPE', 'USAGE', 'RATEPLAN', 'GENDER',\n",
       "       'STATUS', 'CHILDREN', 'ESTINCOME', 'CAROWNER', 'AGE'],\n",
       "      dtype='object')"
      ]
     },
     "execution_count": 11,
     "metadata": {},
     "output_type": "execute_result"
    }
   ],
   "source": [
    "x.columns"
   ]
  },
  {
   "cell_type": "code",
   "execution_count": 12,
   "metadata": {
    "id": "18695ef9-d548-427e-8060-932ee5816e66",
    "tags": []
   },
   "outputs": [],
   "source": [
    "# Apply the LabelEncoder to encode the input features in numeric form where applicable\n",
    "from sklearn_pandas import DataFrameMapper\n",
    "\n",
    "mapper = DataFrameMapper(\n",
    "    [('GENDER', LabelEncoder()),\n",
    "     ('STATUS', LabelEncoder()),\n",
    "     ('CHILDREN', None),\n",
    "     ('ESTINCOME',None),\n",
    "     ('CAROWNER', LabelEncoder()),\n",
    "     ('AGE',None),\n",
    "     ('LONGDISTANCE',None),\n",
    "     ('INTERNATIONAL',None),\n",
    "     ('LOCAL',None),\n",
    "     ('DROPPED',None),\n",
    "     ('PAYMETHOD',LabelEncoder()),\n",
    "     ('LOCALBILLTYPE',LabelEncoder()),\n",
    "     ('LONGDISTANCEBILLTYPE',LabelEncoder()),\n",
    "     ('USAGE',None),\n",
    "     ('RATEPLAN',None)\n",
    "    ]\n",
    ")"
   ]
  },
  {
   "cell_type": "code",
   "execution_count": 13,
   "metadata": {
    "id": "2a0e64d2-f4b1-4c0f-8296-a267f329486b",
    "tags": []
   },
   "outputs": [],
   "source": [
    "# split the data to training and testing set\n",
    "X_train, X_test, y_train, y_test = train_test_split(x, y, test_size=0.2, random_state=42, stratify=y)"
   ]
  },
  {
   "cell_type": "code",
   "execution_count": 14,
   "metadata": {
    "id": "7792c9e2-0c1c-45a3-bd4c-c3a4b9fc030e",
    "tags": []
   },
   "outputs": [
    {
     "data": {
      "text/plain": [
       "Pipeline(steps=[('mapper',\n",
       "                 DataFrameMapper(drop_cols=[],\n",
       "                                 features=[('GENDER', LabelEncoder()),\n",
       "                                           ('STATUS', LabelEncoder()),\n",
       "                                           ('CHILDREN', None),\n",
       "                                           ('ESTINCOME', None),\n",
       "                                           ('CAROWNER', LabelEncoder()),\n",
       "                                           ('AGE', None),\n",
       "                                           ('LONGDISTANCE', None),\n",
       "                                           ('INTERNATIONAL', None),\n",
       "                                           ('LOCAL', None), ('DROPPED', None),\n",
       "                                           ('PAYMETHOD', LabelEncoder()),\n",
       "                                           ('LOCALBILLTYPE', LabelEncoder()),\n",
       "                                           ('LONGDISTANCEBILLTYPE',\n",
       "                                            LabelEncoder()),\n",
       "                                           ('USAGE', None),\n",
       "                                           ('RATEPLAN', None)])),\n",
       "                ('RandonForestClassifier', RandomForestClassifier())])"
      ]
     },
     "execution_count": 14,
     "metadata": {},
     "output_type": "execute_result"
    }
   ],
   "source": [
    "# fit the model\n",
    "\n",
    "import sklearn.pipeline\n",
    "from sklearn.preprocessing import OneHotEncoder\n",
    "\n",
    "random_forest = RandomForestClassifier()\n",
    "steps = [('mapper', mapper),('RandonForestClassifier', random_forest)]\n",
    "pipeline = sklearn.pipeline.Pipeline(steps)\n",
    "model=pipeline.fit( X_train, y_train )\n",
    "model"
   ]
  },
  {
   "cell_type": "code",
   "execution_count": 15,
   "metadata": {
    "id": "6ae58987-a618-4f02-9120-0cbee9dd7716",
    "tags": []
   },
   "outputs": [
    {
     "name": "stdout",
     "output_type": "stream",
     "text": [
      "              precision    recall  f1-score   support\n",
      "\n",
      "         0.0       0.92      0.96      0.94        57\n",
      "         1.0       0.94      0.86      0.90        37\n",
      "\n",
      "    accuracy                           0.93        94\n",
      "   macro avg       0.93      0.91      0.92        94\n",
      "weighted avg       0.93      0.93      0.92        94\n",
      "\n"
     ]
    }
   ],
   "source": [
    "### call pipeline.predict() on your X_test data to make a set of test predictions\n",
    "y_prediction = pipeline.predict( X_test )\n",
    "\n",
    "### test your predictions using sklearn.classification_report()\n",
    "\n",
    "report = sklearn.metrics.classification_report( y_test, y_prediction )\n",
    "### and print the report\n",
    "print(report)"
   ]
  },
  {
   "cell_type": "code",
   "execution_count": null,
   "metadata": {
    "id": "14394da7-a19e-46a9-8a74-b93ee938dbe9"
   },
   "outputs": [],
   "source": []
  }
 ],
 "metadata": {
  "kernelspec": {
   "display_name": "Python 3.8",
   "language": "python",
   "name": "python3"
  },
  "language_info": {
   "codemirror_mode": {
    "name": "ipython",
    "version": 3
   },
   "file_extension": ".py",
   "mimetype": "text/x-python",
   "name": "python",
   "nbconvert_exporter": "python",
   "pygments_lexer": "ipython3",
   "version": "3.8.11"
  }
 },
 "nbformat": 4,
 "nbformat_minor": 4
}
